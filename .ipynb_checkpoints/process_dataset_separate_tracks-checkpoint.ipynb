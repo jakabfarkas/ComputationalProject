{
 "cells": [
  {
   "cell_type": "code",
   "execution_count": 322,
   "id": "f73796dc",
   "metadata": {},
   "outputs": [],
   "source": [
    "import os\n",
    "import json\n",
    "import csv\n",
    "from numpy import genfromtxt\n",
    "import pandas as pd\n",
    "import numpy as np\n",
    "from wordcloud import WordCloud, STOPWORDS, ImageColorGenerator\n",
    "import matplotlib.pyplot as plt\n",
    "from PIL import Image"
   ]
  },
  {
   "cell_type": "code",
   "execution_count": 2,
   "id": "3c4d3a0b",
   "metadata": {},
   "outputs": [
    {
     "ename": "FileNotFoundError",
     "evalue": "[WinError 3] The system cannot find the path specified: '..\\\\spotify_million_playlist_dataset\\\\data'",
     "output_type": "error",
     "traceback": [
      "\u001b[1;31m---------------------------------------------------------------------------\u001b[0m",
      "\u001b[1;31mFileNotFoundError\u001b[0m                         Traceback (most recent call last)",
      "Cell \u001b[1;32mIn[2], line 2\u001b[0m\n\u001b[0;32m      1\u001b[0m data_dir \u001b[38;5;241m=\u001b[39m os\u001b[38;5;241m.\u001b[39mpath\u001b[38;5;241m.\u001b[39mjoin(\u001b[38;5;124m'\u001b[39m\u001b[38;5;124m..\u001b[39m\u001b[38;5;124m'\u001b[39m, \u001b[38;5;124m'\u001b[39m\u001b[38;5;124mspotify_million_playlist_dataset\u001b[39m\u001b[38;5;124m'\u001b[39m, \u001b[38;5;124m'\u001b[39m\u001b[38;5;124mdata\u001b[39m\u001b[38;5;124m'\u001b[39m)\n\u001b[1;32m----> 2\u001b[0m file_list \u001b[38;5;241m=\u001b[39m os\u001b[38;5;241m.\u001b[39mlistdir(data_dir)\n",
      "\u001b[1;31mFileNotFoundError\u001b[0m: [WinError 3] The system cannot find the path specified: '..\\\\spotify_million_playlist_dataset\\\\data'"
     ]
    }
   ],
   "source": [
    "data_dir = os.path.join('..', 'spotify_million_playlist_dataset', 'data')\n",
    "file_list = os.listdir(data_dir)"
   ]
  },
  {
   "cell_type": "code",
   "execution_count": 15,
   "id": "ca112ece",
   "metadata": {},
   "outputs": [
    {
     "data": {
      "text/plain": [
       "10258"
      ]
     },
     "execution_count": 15,
     "metadata": {},
     "output_type": "execute_result"
    }
   ],
   "source": [
    "csv_file = open('processed_dataset_separated.csv', 'w', newline='', encoding='utf-8')\n",
    "writer = csv.writer(csv_file)\n",
    "\n",
    "max_tracks = 376\n",
    "\n",
    "fields = ['playlist_name', 'num_tracks', 'num_albums', 'num_followers', 'duration']\n",
    "for i in range(max_tracks): fields.append(f'artist{i}')\n",
    "for i in range(max_tracks): fields.append(f'track{i}')\n",
    "for i in range(max_tracks): fields.append(f'album{i}')\n",
    "writer.writerow(fields)"
   ]
  },
  {
   "cell_type": "code",
   "execution_count": 16,
   "id": "3ca1dc54",
   "metadata": {},
   "outputs": [
    {
     "name": "stdout",
     "output_type": "stream",
     "text": [
      "7988\n"
     ]
    }
   ],
   "source": [
    "n = 0\n",
    "for filename in file_list:\n",
    "    with open(os.path.join(data_dir, filename)) as json_file:\n",
    "        data = json.load(json_file)\n",
    "    for playlist in data['playlists']:\n",
    "        if(playlist['num_followers'] >= 5) and playlist['num_tracks'] >= 5 and playlist['num_tracks'] <= 50:\n",
    "            duration = 0\n",
    "            artists = []\n",
    "            tracks = []\n",
    "            albums = []\n",
    "            for track in playlist['tracks']:\n",
    "                artists.append(track['artist_name'])\n",
    "                tracks.append(track['track_name'])\n",
    "                albums.append(track['album_name'])\n",
    "                duration += track['duration_ms'] / 1000\n",
    "            for i in range(len(artists), max_tracks):\n",
    "                artists.append('')\n",
    "                tracks.append('')\n",
    "                albums.append('')\n",
    "            writer.writerow([playlist['name'], playlist['num_tracks'], playlist['num_albums'], playlist['num_followers'],\n",
    "                             round(duration, 2)] + artists + tracks + albums)\n",
    "            n += 1\n",
    "csv_file.close()\n",
    "print(n)"
   ]
  },
  {
   "cell_type": "code",
   "execution_count": 189,
   "id": "1054a58c",
   "metadata": {},
   "outputs": [],
   "source": [
    "spotify_dataset = pd.read_csv(\"processed_dataset_separated.csv\")\n",
    "genre_dataset = pd.read_csv(\"data_w_genres.csv\")"
   ]
  },
  {
   "cell_type": "code",
   "execution_count": 57,
   "id": "f33fe22b",
   "metadata": {},
   "outputs": [],
   "source": [
    "result=spotify_dataset.merge(genre_dataset,on=\"artists\")\n",
    "result.to_csv(\"result.csv\")"
   ]
  },
  {
   "cell_type": "code",
   "execution_count": 182,
   "id": "a227067a",
   "metadata": {},
   "outputs": [],
   "source": [
    "artist_dataset = np.asarray(spotify_dataset)[:,5:380]\n",
    "artists = []\n",
    "for artist_list in artist_dataset:\n",
    "    temp = []\n",
    "    for artist in artist_list:\n",
    "        if pd.notna(artist):\n",
    "            temp.append(artist)\n",
    "    artists.append(temp)\n",
    "    #artists.append({x for x in a if pd.notna(x)})"
   ]
  },
  {
   "cell_type": "code",
   "execution_count": 129,
   "id": "d709b1cf",
   "metadata": {},
   "outputs": [],
   "source": [
    "genres_dataset = np.asarray(genre_dataset)\n",
    "genres = []\n",
    "for g in genres_dataset:\n",
    "    genres.append(g)"
   ]
  },
  {
   "cell_type": "code",
   "execution_count": 185,
   "id": "1bad1372",
   "metadata": {
    "scrolled": true
   },
   "outputs": [
    {
     "name": "stdout",
     "output_type": "stream",
     "text": [
      "7988\n"
     ]
    }
   ],
   "source": [
    "csv_file = open('genres_and_artists.csv', 'w', newline='', encoding='utf-8')\n",
    "writer = csv.writer(csv_file)\n",
    "n = 0\n",
    "for x in range(len(artists)):\n",
    "    for artist in artists[n]:\n",
    "        writer.writerow([spotify_dataset.playlist_name[n], spotify_dataset.num_followers[n], spotify_dataset.num_tracks[n], artist])\n",
    "    n += 1\n",
    "csv_file.close()\n",
    "print(n)"
   ]
  },
  {
   "cell_type": "code",
   "execution_count": null,
   "id": "09467b95",
   "metadata": {},
   "outputs": [],
   "source": [
    "final_data=genres_and_artists.merge(genre_dataset,on=\"formula\")\n",
    "final_data.to_csv(\"processed_genre_dataset.csv\")"
   ]
  },
  {
   "cell_type": "code",
   "execution_count": 208,
   "id": "caeaa38c",
   "metadata": {},
   "outputs": [],
   "source": [
    "final_data = pd.read_csv(\"processed_genre_dataset.csv\")"
   ]
  },
  {
   "cell_type": "code",
   "execution_count": 210,
   "id": "386cf08f",
   "metadata": {},
   "outputs": [],
   "source": [
    "final_data = np.asarray(final_data)"
   ]
  },
  {
   "cell_type": "code",
   "execution_count": 246,
   "id": "4c4235c8",
   "metadata": {},
   "outputs": [],
   "source": [
    "final_playlists = []\n",
    "known_playlists = [data[0][1]]\n",
    "temp = []\n",
    "for data in final_data:\n",
    "    if data[1] not in known_playlists:\n",
    "        known_playlists.append(data[1])\n",
    "        final_playlists.append(temp)\n",
    "        temp = []\n",
    "    temp.append(data)"
   ]
  },
  {
   "cell_type": "code",
   "execution_count": null,
   "id": "efd7903c",
   "metadata": {},
   "outputs": [],
   "source": [
    "def Convert(string):\n",
    "    string = string.replace('[', '').replace(']', '').replace(\"'\", '')\n",
    "    li = list(string.split(\", \"))\n",
    "    return li\n",
    "Convert(final_playlists[1][1][5])"
   ]
  },
  {
   "cell_type": "code",
   "execution_count": 304,
   "id": "6087476a",
   "metadata": {
    "scrolled": true
   },
   "outputs": [],
   "source": [
    "complete_playlist = {}\n",
    "for playlist in final_playlists:\n",
    "    genres = []\n",
    "    acoustics = []\n",
    "    dancability = []\n",
    "    duration = []\n",
    "    energy = []\n",
    "    instrumentalness = []\n",
    "    liveliness = []\n",
    "    loudness = []\n",
    "    speechiness = []\n",
    "    tempo = []\n",
    "    valence = []\n",
    "    popularity = []\n",
    "    for song in playlist:\n",
    "        genres = genres + Convert(song[5])\n",
    "        acoustics.append(song[6])\n",
    "        dancability.append(song[7])\n",
    "        duration.append(song[8])\n",
    "        energy.append(song[9])\n",
    "        instrumentalness.append(song[10])\n",
    "        liveliness.append(song[11])\n",
    "        loudness.append(song[12])\n",
    "        speechiness.append(song[13])\n",
    "        tempo.append(song[14])\n",
    "        valence.append(song[15])\n",
    "        popularity.append(song[15])\n",
    "    complete_playlist[song[1]] = {}\n",
    "    complete_playlist[song[1]]['genres'] = genres\n",
    "    complete_playlist[song[1]]['acoustics'] = acoustics\n",
    "    complete_playlist[song[1]]['dancability'] = dancability\n",
    "    complete_playlist[song[1]]['duration'] = duration\n",
    "    complete_playlist[song[1]]['energy'] = energy\n",
    "    complete_playlist[song[1]]['instrumentalness'] = instrumentalness\n",
    "    complete_playlist[song[1]]['liveliness'] = liveliness\n",
    "    complete_playlist[song[1]]['loudness'] = loudness\n",
    "    complete_playlist[song[1]]['speechiness'] = speechiness\n",
    "    complete_playlist[song[1]]['tempo'] = tempo\n",
    "    complete_playlist[song[1]]['valence'] = valence\n",
    "    complete_playlist[song[1]]['popularity'] = popularity"
   ]
  },
  {
   "cell_type": "code",
   "execution_count": 318,
   "id": "8c9bd771",
   "metadata": {},
   "outputs": [
    {
     "data": {
      "image/png": "[encoded data removed]",
      "text/plain": [
       "<Figure size 640x480 with 1 Axes>"
      ]
     },
     "metadata": {},
     "output_type": "display_data"
    }
   ],
   "source": [
    "plt.hist(complete_playlist['Christmas']['popularity'], edgecolor=\"red\", bins=10) \n",
    "plt.show() "
   ]
  },
  {
   "cell_type": "code",
   "execution_count": 334,
   "id": "002ca9bc",
   "metadata": {},
   "outputs": [
    {
     "data": {
      "image/png": "[encoded data removed]",
      "text/plain": [
       "<Figure size 640x480 with 1 Axes>"
      ]
     },
     "metadata": {},
     "output_type": "display_data"
    }
   ],
   "source": [
    "unique_string=(\" \").join(complete_playlist['Christmas']['genres'])\n",
    "mask = np.array(Image.open(r'Spotify_logo_without_text.png'))\n",
    "wc = WordCloud(mask = mask, background_color = \"white\",\n",
    "               max_words = 2000, max_font_size = 200,\n",
    "               random_state = 2, width = mask.shape[1],\n",
    "               height = mask.shape[0])\n",
    "# lower max_font_size, change the maximum number of word and lighten the background:\n",
    "wc.generate(unique_string)\n",
    "plt.imshow(wc, interpolation=\"None\")\n",
    "plt.axis('off')\n",
    "plt.show()"
   ]
  }
 ],
 "metadata": {
  "kernelspec": {
   "display_name": "Python 3 (ipykernel)",
   "language": "python",
   "name": "python3"
  },
  "language_info": {
   "codemirror_mode": {
    "name": "ipython",
    "version": 3
   },
   "file_extension": ".py",
   "mimetype": "text/x-python",
   "name": "python",
   "nbconvert_exporter": "python",
   "pygments_lexer": "ipython3",
   "version": "3.11.4"
  }
 },
 "nbformat": 4,
 "nbformat_minor": 5
}
